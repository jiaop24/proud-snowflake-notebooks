{
 "metadata": {
  "kernelspec": {
   "display_name": "Streamlit Notebook",
   "name": "streamlit"
  },
  "lastEditStatus": {
   "notebookId": "nwjlxekcs5mktqf6agrq",
   "authorId": "885623544432",
   "authorName": "PJIAO",
   "authorEmail": "ao.jiao@fashionnova.com",
   "sessionId": "d6dc520f-2646-4a36-9024-757751429619",
   "lastEditTime": 1738795414617
  }
 },
 "nbformat_minor": 5,
 "nbformat": 4,
 "cells": [
  {
   "cell_type": "markdown",
   "id": "b34f37a5-e38f-4ad3-badf-751ed0253740",
   "metadata": {
    "name": "cell8",
    "collapsed": false
   },
   "source": "## Start from next session"
  },
  {
   "cell_type": "code",
   "id": "3775908f-ca36-4846-8f38-5adca39217f2",
   "metadata": {
    "language": "python",
    "name": "cell1",
    "codeCollapsed": false
   },
   "source": "# Import python packages\nimport streamlit as st\nimport pandas as pd\n\n# We can also use Snowpark for our analyses!\nfrom snowflake.snowpark.context import get_active_session\nsession = get_active_session()\n",
   "execution_count": null,
   "outputs": []
  },
  {
   "cell_type": "code",
   "id": "8d50cbf4-0c8d-4950-86cb-114990437ac9",
   "metadata": {
    "language": "sql",
    "name": "cell2"
   },
   "source": "-- Welcome to Snowflake Notebooks!\n-- Try out a SQL cell to generate some data.\nSELECT 'FRIDAY' as SNOWDAY, 0.2 as CHANCE_OF_SNOW\nUNION ALL\nSELECT 'SATURDAY',0.5\nUNION ALL \nSELECT 'SUNDAY', 0.9;",
   "execution_count": null,
   "outputs": []
  },
  {
   "cell_type": "code",
   "id": "c695373e-ac74-4b62-a1f1-08206cbd5c81",
   "metadata": {
    "language": "python",
    "name": "cell3"
   },
   "source": "# Then, we can use the python name to turn cell2 into a Pandas dataframe\nmy_df = cell2.to_pandas()\n\n# Chart the data\nst.subheader(\"Chance of SNOW ❄️\")\nst.line_chart(my_df, x='SNOWDAY', y='CHANCE_OF_SNOW')\n\n# Give it a go!\nst.subheader(\"Try it out yourself and show off your skills 🥇\")",
   "execution_count": null,
   "outputs": []
  },
  {
   "cell_type": "markdown",
   "id": "0b163431-4d10-471c-abfe-0344cc84b816",
   "metadata": {
    "name": "cell9",
    "collapsed": false
   },
   "source": "# Experiment Set Up\n\n## Context and Purpose of the Experiment\n\nThis worksheet is designed to validate the behavior of privileges in Snowflake, specifically addressing whether granting privileges on a schema automatically propagates to the objects (e.g., tables and views) contained within it. The experiment stems from the need to confirm the following hypothesis:\n\n> \"Granting privileges on a schema does not inherently grant the same privileges on the objects contained within that schema.\"\n\n---\n\n## Experiment Setup\n\n- **Database and Schema**: A database named `playground` and a schema named `PUBLIC` were created to serve as the container for the experiment.\n- **Table Creation**: A table named `ORDERS` was added to the `PUBLIC` schema to test access to objects within the schema.\n- **Role Setup**: A role, `ANALYST_ROLE`, was created and assigned to a user. This role was granted `USAGE` privileges on both the database and schema.\n- **Access Test**: After granting `USAGE` privileges, the ability of the role to query the table without explicitly granting privileges on the table was tested.\n- **Explicit Privilege Grant**: To confirm the hypothesis, the `SELECT` privilege was explicitly granted on the `ORDERS` table, and the role's access was retested.\n\n---\n\n## Goals\n\n1. Validate whether `USAGE` privileges on a schema extend to objects within the schema.\n2. Demonstrate the necessity of explicit privilege grants for accessing schema-contained objects.\n3. Clarify privilege hierarchy and ensure alignment with Snowflake's access control model.\n\n---\n\n## Conducting the Experiment\n\n### **Setup Phase**\n- Created the database, schema, table, and role.\n- Granted the role `USAGE` privileges on the database and schema.\n\n### **Testing Phase**\n- Verified whether the role could query the table after receiving `USAGE` privileges.\n\n### **Validation Phase**\n- Explicitly granted the `SELECT` privilege on the table.\n- Retested the role's ability to query the table.\n\n---\n\n## Results\n\nGranting Schema Access Does grant Access to Tables"
  },
  {
   "cell_type": "markdown",
   "id": "a14c8773-447a-4da8-b914-3f202fce4d5b",
   "metadata": {
    "name": "cell10",
    "collapsed": false
   },
   "source": "## Run Experiment"
  },
  {
   "cell_type": "code",
   "id": "cb65313b-7a20-408e-80f3-512bdfaa4ad3",
   "metadata": {
    "language": "sql",
    "name": "cell4",
    "codeCollapsed": false
   },
   "outputs": [],
   "source": "SET my_user = (SELECT CURRENT_USER());\nSELECT $my_user;\n\nDROP TABLE IF EXISTS playground.PUBLIC.ORDERS;\nCREATE TABLE playground.PUBLIC.ORDERS (\n    ORDER_ID INT,\n    ORDER_DATE DATE,\n    CUSTOMER_ID INT,\n    AMOUNT DECIMAL(10, 2)\n);\n\nDROP ROLE IF EXISTS ANALYST_ROLE;\nCREATE ROLE ANALYST_ROLE;\n\nGRANT USAGE ON SCHEMA playground.PUBLIC TO ROLE ANALYST_ROLE;\n\nGRANT ROLE ANALYST_ROLE TO USER IDENTIFIER($my_user);",
   "execution_count": null
  },
  {
   "cell_type": "markdown",
   "id": "ddfc4d15-08e4-40a2-aa2a-46e5efdd06f9",
   "metadata": {
    "name": "cell7",
    "collapsed": false
   },
   "source": "Now switch to `ANALYST_ROLE` and open a worksheet to execute the following:\n\n```\nINSERT INTO playground.PUBLIC.ORDERS (ORDER_ID, ORDER_DATE, CUSTOMER_ID, AMOUNT)\nVALUES (999, '2024-01-01', 123, 100.50);\n```\nThis should show as successfully executed\n"
  },
  {
   "cell_type": "code",
   "id": "95b67aaf-56bc-47bd-8122-467d762e5f83",
   "metadata": {
    "language": "sql",
    "name": "cell11"
   },
   "outputs": [],
   "source": "-- Verify that we only granted schema access to ANALYST_ROLE\nSHOW GRANTS TO ROLE ANALYST_ROLE;",
   "execution_count": null
  },
  {
   "cell_type": "markdown",
   "id": "f4300c84-e635-4ed8-a6e7-77c9065aa69c",
   "metadata": {
    "name": "cell12",
    "collapsed": false
   },
   "source": "Can we revoke the access so that ANALYST_ROLE is only given READ access to the public table?"
  },
  {
   "cell_type": "code",
   "id": "034eb207-8a84-4625-b4cc-285af35050fb",
   "metadata": {
    "language": "sql",
    "name": "cell5",
    "codeCollapsed": false
   },
   "outputs": [],
   "source": "REVOKE USAGE ON SCHEMA playground.PUBLIC FROM ROLE ANALYST_ROLE;\nSHOW GRANTS TO ROLE ANALYST_ROLE;",
   "execution_count": null
  },
  {
   "cell_type": "code",
   "id": "4109faf4-12ef-49d8-8a9f-8f8625caeb45",
   "metadata": {
    "language": "sql",
    "name": "cell6",
    "codeCollapsed": false
   },
   "outputs": [],
   "source": "GRANT SELECT ON playground.PUBLIC.ORDERS TO ROLE ANALYST_ROLE;\nSHOW GRANTS TO ROLE ANALYST_ROLE;",
   "execution_count": null
  },
  {
   "cell_type": "markdown",
   "id": "5c535d7b-1212-44b2-ac87-a51051f3c846",
   "metadata": {
    "name": "cell13",
    "collapsed": false
   },
   "source": "Now let's try modifying the table again by switching to ANALYST_ROLE and running the following commands:\n\n```\nINSERT INTO playground.PUBLIC.ORDERS (ORDER_ID, ORDER_DATE, CUSTOMER_ID, AMOUNT)\nVALUES (999, '2024-01-01', 123, 100.50);\n```"
  },
  {
   "cell_type": "code",
   "id": "14b6b6a5-c2ef-459a-a482-86b0fbf03abb",
   "metadata": {
    "language": "sql",
    "name": "cell14",
    "collapsed": false,
    "codeCollapsed": false
   },
   "outputs": [],
   "source": "select * from playground.public.orders",
   "execution_count": null
  },
  {
   "cell_type": "code",
   "id": "e7d91a99-bdb0-466b-8f52-bccbd7af0f7f",
   "metadata": {
    "language": "sql",
    "name": "cell15"
   },
   "outputs": [],
   "source": "",
   "execution_count": null
  }
 ]
}