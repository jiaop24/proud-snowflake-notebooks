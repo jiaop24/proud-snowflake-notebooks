{
 "metadata": {
  "kernelspec": {
   "display_name": "Streamlit Notebook",
   "name": "streamlit"
  },
  "lastEditStatus": {
   "notebookId": "uabfxexyrk7zlyulezdw",
   "authorId": "885623544432",
   "authorName": "PJIAO",
   "authorEmail": "ao.jiao@fashionnova.com",
   "sessionId": "dab18ac5-3898-431c-9dd7-0c1c9893971b",
   "lastEditTime": 1738797342407
  }
 },
 "nbformat_minor": 5,
 "nbformat": 4,
 "cells": [
  {
   "cell_type": "markdown",
   "id": "0b163431-4d10-471c-abfe-0344cc84b816",
   "metadata": {
    "name": "cell9",
    "collapsed": false
   },
   "source": "# Experiment Set Up\n\n## Context and Purpose of the Experiment\n\nThis worksheet is designed to validate the behavior of privileges in Snowflake, specifically addressing whether granting privileges on a schema automatically propagates to the objects (e.g., tables and views) contained within it. The experiment stems from the need to confirm the following hypothesis:\n\n> \"Granting privileges on a schema does not inherently grant the same privileges on the objects contained within that schema.\"\n\n---\n\n## Experiment Setup\n\n- **Database and Schema**: A database named `playground` and a schema named `PUBLIC` were created to serve as the container for the experiment.\n- **Table Creation**: A table named `ORDERS` was added to the `PUBLIC` schema to test access to objects within the schema.\n- **Role Setup**: A role, `ANALYST_ROLE`, was created and assigned to a user. This role was granted `USAGE` privileges on both the database and schema.\n- **Access Test**: After granting `USAGE` privileges, the ability of the role to query the table without explicitly granting privileges on the table was tested.\n- **Explicit Privilege Grant**: To confirm the hypothesis, the `SELECT` privilege was explicitly granted on the `ORDERS` table, and the role's access was retested.\n\n---\n\n## Goals\n\n1. Validate whether `USAGE` privileges on a schema extend to objects within the schema.\n2. Demonstrate the necessity of explicit privilege grants for accessing schema-contained objects.\n3. Clarify privilege hierarchy and ensure alignment with Snowflake's access control model.\n\n---\n\n## Conducting the Experiment\n\n### **Setup Phase**\n- Created the database, schema, table, and role.\n- Granted the role `USAGE` privileges on the database and schema.\n\n### **Testing Phase**\n- Verified whether the role could query the table after receiving `USAGE` privileges.\n\n### **Validation Phase**\n- Explicitly granted the `SELECT` privilege on the table.\n- Retested the role's ability to query the table.\n\n---\n\n## Results\n\nGranting Schema Access Does grant Access to Tables"
  },
  {
   "cell_type": "markdown",
   "id": "a14c8773-447a-4da8-b914-3f202fce4d5b",
   "metadata": {
    "name": "cell10",
    "collapsed": false
   },
   "source": "## Run Experiment"
  },
  {
   "cell_type": "code",
   "id": "cb65313b-7a20-408e-80f3-512bdfaa4ad3",
   "metadata": {
    "language": "sql",
    "name": "cell4",
    "codeCollapsed": false
   },
   "outputs": [],
   "source": "USE ROLE ACCOUNTADMIN;\nSET my_user = (SELECT CURRENT_USER());\nSELECT $my_user;\n\nDROP TABLE IF EXISTS playground.PUBLIC.ORDERS;\nCREATE TABLE playground.PUBLIC.ORDERS (\n    ORDER_ID INT,\n    ORDER_DATE DATE,\n    CUSTOMER_ID INT,\n    AMOUNT DECIMAL(10, 2)\n);\n\nDROP ROLE IF EXISTS ANALYST_ROLE;\nCREATE ROLE ANALYST_ROLE;\n\nGRANT USAGE ON DATABASE playground TO ROLE ANALYST_ROLE;\nGRANT USAGE ON WAREHOUSE FN_DATA_ANALYTICS TO ROLE ANALYST_ROLE; -- grant this role a bit of computing resources\nGRANT USAGE ON SCHEMA playground.PUBLIC TO ROLE ANALYST_ROLE;\n\nGRANT ROLE ANALYST_ROLE TO USER IDENTIFIER($my_user);\nSHOW GRANTS TO ROLE ANALYST_ROLE;",
   "execution_count": null
  },
  {
   "cell_type": "code",
   "id": "9792e0d2-7f18-41de-8467-7514762a56b7",
   "metadata": {
    "language": "sql",
    "name": "cell16",
    "codeCollapsed": false
   },
   "outputs": [],
   "source": "SELECT CURRENT_ROLE();",
   "execution_count": null
  },
  {
   "cell_type": "markdown",
   "id": "ddfc4d15-08e4-40a2-aa2a-46e5efdd06f9",
   "metadata": {
    "name": "cell7",
    "collapsed": false
   },
   "source": "Now we verify if we have modifying permisssion by switching to `ANALYST_ROLE` execute the following:\n"
  },
  {
   "cell_type": "code",
   "id": "67be0580-02b6-47c9-b029-68f931b44c4d",
   "metadata": {
    "language": "sql",
    "name": "cell17",
    "codeCollapsed": false
   },
   "outputs": [],
   "source": "USE ROLE ANALYST_ROLE;\nSHOW GRANTS TO ROLE ANALYST_ROLE;",
   "execution_count": null
  },
  {
   "cell_type": "code",
   "id": "71b5daaf-adde-4ff6-a908-f9724a82bfdb",
   "metadata": {
    "language": "sql",
    "name": "cell1",
    "codeCollapsed": false
   },
   "outputs": [],
   "source": "INSERT INTO playground.PUBLIC.ORDERS (ORDER_ID, ORDER_DATE, CUSTOMER_ID, AMOUNT)\nVALUES (1001, '2024-01-01', 456, 99.99);",
   "execution_count": null
  },
  {
   "cell_type": "markdown",
   "id": "f4300c84-e635-4ed8-a6e7-77c9065aa69c",
   "metadata": {
    "name": "cell12",
    "collapsed": false
   },
   "source": "Above code should show that we don't have privilege to select or modify the entry. Can we revoke the access so that ANALYST_ROLE is only given READ access to the public table?"
  },
  {
   "cell_type": "code",
   "id": "034eb207-8a84-4625-b4cc-285af35050fb",
   "metadata": {
    "language": "sql",
    "name": "cell5",
    "codeCollapsed": false
   },
   "outputs": [],
   "source": "REVOKE USAGE ON SCHEMA playground.PUBLIC FROM ROLE ANALYST_ROLE;\nSHOW GRANTS TO ROLE ANALYST_ROLE;",
   "execution_count": null
  },
  {
   "cell_type": "markdown",
   "id": "5f5591c2-c2f0-40d0-8c19-f1688b95afb5",
   "metadata": {
    "name": "cell2",
    "collapsed": false
   },
   "source": "Above we tried to revoke ANALYST_ROLE privilege as a ANALYST but the privileges remain unchanged!\n\nThis is because **Snowflake does not allow a role to revoke its own permissions.**"
  },
  {
   "cell_type": "code",
   "id": "7a9bea32-dad1-463a-9120-8229226ed2aa",
   "metadata": {
    "language": "sql",
    "name": "cell3"
   },
   "outputs": [],
   "source": "USE ROLE ACCOUNTADMIN;\nREVOKE USAGE ON SCHEMA playground.PUBLIC FROM ROLE ANALYST_ROLE;\nGRANT SELECT ON playground.PUBLIC.ORDERS TO ROLE ANALYST_ROLE;\nSHOW GRANTS TO ROLE ANALYST_ROLE;",
   "execution_count": null
  },
  {
   "cell_type": "markdown",
   "id": "5c535d7b-1212-44b2-ac87-a51051f3c846",
   "metadata": {
    "name": "cell13",
    "collapsed": false
   },
   "source": "Now let's try modifying the table again by switching to ANALYST_ROLE and select some entries"
  },
  {
   "cell_type": "code",
   "id": "14b6b6a5-c2ef-459a-a482-86b0fbf03abb",
   "metadata": {
    "language": "sql",
    "name": "cell14",
    "collapsed": false,
    "codeCollapsed": false
   },
   "outputs": [],
   "source": "use role ANALYST_ROLE;\nselect * from playground.public.orders",
   "execution_count": null
  },
  {
   "cell_type": "markdown",
   "id": "e9d4f25b-01ee-462f-90a2-42d580c4768f",
   "metadata": {
    "name": "cell6",
    "collapsed": false
   },
   "source": "Q: If I grant a role to select from the table but not the usage on the schema, then would he be able to select the entries?\n\nA: No, the role will NOT be able to select from the table if it has SELECT privileges on the table but lacks USAGE on the schema.\n\n**In Snowflake's privilege hierarchy, a role must have USAGE on the schema AND SELECT on the table to access the table's data.\nWithout USAGE on the schema, the role cannot even see the table, even if it has SELECT on the table.**"
  },
  {
   "cell_type": "code",
   "id": "e7d91a99-bdb0-466b-8f52-bccbd7af0f7f",
   "metadata": {
    "language": "sql",
    "name": "cell15",
    "codeCollapsed": false
   },
   "outputs": [],
   "source": "USE ROLE ACCOUNTADMIN;\nGRANT USAGE ON SCHEMA playground.PUBLIC TO ROLE ANALYST_ROLE;\nUSE ROLE ANALYST_ROLE;\nselect * from playground.public.orders",
   "execution_count": null
  },
  {
   "cell_type": "markdown",
   "id": "9defb39b-f809-4f40-a060-fd0a37f8298f",
   "metadata": {
    "name": "cell8",
    "collapsed": false
   },
   "source": "NOW finally ANALYST_ROLE can query the table! Let's clean the tables we created\n## Cleaning"
  },
  {
   "cell_type": "code",
   "id": "9c310410-056c-4f9c-b31a-c3740c6bc234",
   "metadata": {
    "language": "sql",
    "name": "cell11",
    "collapsed": false,
    "codeCollapsed": false
   },
   "outputs": [],
   "source": "USE ROLE ACCOUNTADMIN;\nDROP TABLE IF EXISTS playground.PUBLIC.ORDERS;\nDROP ROLE ANALYST_ROLE;",
   "execution_count": null
  }
 ]
}